{
 "cells": [
  {
   "cell_type": "markdown",
   "metadata": {},
   "source": [
    "### IV.2. Checking equivalence of our bessel Integral and Python function\n",
    "Notice we again need the \"modified Bessel function of the third kind\", which I give in eq (14.30). To be sure that the function you use (I think besselk in Matlab) is correct, do what I wrote in a recent email: Compute the integral in (14.30), which is definitely what we need, and compare it to the besselk function output. You include the codes for this, and show equivalence."
   ]
  },
  {
   "cell_type": "code",
   "execution_count": 1,
   "metadata": {},
   "outputs": [],
   "source": [
    "# Import libraries\n",
    "import numpy as np \n",
    "from scipy.special import kv\n",
    "from scipy.integrate import quad"
   ]
  },
  {
   "cell_type": "code",
   "execution_count": 2,
   "metadata": {},
   "outputs": [],
   "source": [
    "'''\n",
    "Modified Bessel function of the third kind eq.(14.30) time series book\n",
    "    Creating the integrand function\n",
    "    Integrating the integrand function to get the modified Bessel function of the third kind\n",
    "Input: \n",
    "    nu: order of the modified Bessel function of the third kind\n",
    "    x: input value\n",
    "Output:\n",
    "    result: value of the modified Bessel function of the third kind\n",
    "'''\n",
    "\n",
    "def integrand(u, nu, x):\n",
    "    return u**(nu-1) * np.exp((-x/2) * (1/u + u))\n",
    "\n",
    "def modified_bessel_function_integral(nu, x):\n",
    "    result, _ = quad(lambda u: integrand(u, nu, x), 0, np.inf) \n",
    "\n",
    "    return result *0.5 # 0.5 is the scalar in front of the integral"
   ]
  },
  {
   "cell_type": "code",
   "execution_count": 3,
   "metadata": {},
   "outputs": [],
   "source": [
    "# Create output variables to compare the functions. \n",
    "nu = 1    # Order of the Bessel function\n",
    "x = 3.0   # Argument of the Bessel function\n",
    "\n",
    "# Evaluate the integral using the modified Bessel function of the third kind (kn)\n",
    "result_integral = modified_bessel_function_integral(nu, x)\n",
    "\n",
    "# Evaluate the modified Bessel function using scipy's kv function\n",
    "result_besselk = kv(nu, x)"
   ]
  },
  {
   "cell_type": "markdown",
   "metadata": {},
   "source": [
    "#### Check for equivalence between the computed integral and the python package KV.\n"
   ]
  },
  {
   "cell_type": "code",
   "execution_count": 4,
   "metadata": {},
   "outputs": [
    {
     "name": "stdout",
     "output_type": "stream",
     "text": [
      "The result of the integral is:  0.040156431128192276\n",
      "The result of the Bessel function is:  0.04015643112819419\n",
      "The results are equivalent.\n"
     ]
    },
    {
     "ename": "",
     "evalue": "",
     "output_type": "error",
     "traceback": [
      "\u001b[1;31mThe Kernel crashed while executing code in the the current cell or a previous cell. Please review the code in the cell(s) to identify a possible cause of the failure. Click <a href='https://aka.ms/vscodeJupyterKernelCrash'>here</a> for more info. View Jupyter <a href='command:jupyter.viewOutput'>log</a> for further details."
     ]
    }
   ],
   "source": [
    "## Equivalence check\n",
    "# tolerance for the comparison\n",
    "tolerance = 1e-14\n",
    "\n",
    "equivalent = abs(result_integral - result_besselk) < tolerance\n",
    "\n",
    "print(\"The result of the integral is: \", result_integral)\n",
    "print(\"The result of the Bessel function is: \", result_besselk)\n",
    "if equivalent:\n",
    "    print(\"The results are equivalent.\")\n",
    "else:\n",
    "    print(\"The results are not equivalent.\")\n",
    "\n",
    "# For tolernace smaller than 1e-14, the results are not equivalent. But will say this is equivalence."
   ]
  },
  {
   "cell_type": "code",
   "execution_count": null,
   "metadata": {},
   "outputs": [],
   "source": []
  }
 ],
 "metadata": {
  "kernelspec": {
   "display_name": "base",
   "language": "python",
   "name": "python3"
  },
  "language_info": {
   "codemirror_mode": {
    "name": "ipython",
    "version": 3
   },
   "file_extension": ".py",
   "mimetype": "text/x-python",
   "name": "python",
   "nbconvert_exporter": "python",
   "pygments_lexer": "ipython3",
   "version": "3.8.5"
  }
 },
 "nbformat": 4,
 "nbformat_minor": 2
}
