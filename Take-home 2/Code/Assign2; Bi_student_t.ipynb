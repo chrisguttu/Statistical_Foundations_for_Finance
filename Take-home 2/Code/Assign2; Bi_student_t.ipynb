{
 "cells": [
  {
   "cell_type": "markdown",
   "metadata": {},
   "source": [
    "### IV.2. Recall in question III.1 above, you got a free ride, since the exact codes are right in my book. \n",
    "That was not an accident. Now, you are to make something similar, but for the k=2, d=2 discrete mixture multivariate Laplace.\n",
    "\n",
    "For d larger, you would need the EM algorithm I derived in my book for this distribution. For our case with k=d=2, there are --- let's count: 4 location terms, Sigma_1 and Sigma_2 have a total of 6 terms, then there is b_1 and b_2, so a total of 12 parameters (you please check this), with obvious constraints on the Sigma elements, and the b_i. So, still very modest for brute force BGFS optimization, and the likelihood is easily obtained from time-series book equations (14.31) and (14.41).\n",
    "\n",
    "Notice we again need the \"modified Bessel function of the third kind\", which I give in eq (14.30). To be sure that the function you use (I think besselk in Matlab) is correct, do what I wrote in a recent email: Compute the integral in (14.30), which is definitely what we need, and compare it to the besselk function output. You include the codes for this, and show equivalence.\n",
    "\n",
    "Make a program to compute the MLE of this distribution (again, just d=k=2).\n",
    "\n",
    "Choose a large sample size, say T=10,000, and generate *one* data set, and estimate it, and report, in a nice table, the true parameters in one row, and the MLE values in the other. Based on this sample size, the MLE values should be close to the true parameter values. Notice we have what is called a \"label switching problem\" here, in that mixture components 1 and 2 could be switched (and also of course the two weights in the mixture), and the model does not change. Be sure to keep that in mind when reporting your results.\n",
    "\n",
    "Using my generic MLE codes from Chapter 4 with BFGS, you can also produce approximate standard errors for the parameters. Report these also. You do *not* need to generate more accurate confidence intervals via a bootstrap. There are two reasons I do not request this:\n",
    "\n",
    "a) you have enough to do already in this assignment,\n",
    "\n",
    "b) *who cares* about them, or arguably even the (freely obtained) \"standard errors\" from BFGS? The point of the model is to fit real data, and do portfolio optimization. The only relevant model assessment is OOS performance of portfolio allocation (or, risk assessment perhaps). The actual parameters of the model are, for us, essentially \"nuisances that need to be calibrated\".\n"
   ]
  },
  {
   "cell_type": "markdown",
   "metadata": {},
   "source": []
  }
 ],
 "metadata": {
  "kernelspec": {
   "display_name": "base",
   "language": "python",
   "name": "python3"
  },
  "language_info": {
   "codemirror_mode": {
    "name": "ipython",
    "version": 3
   },
   "file_extension": ".py",
   "mimetype": "text/x-python",
   "name": "python",
   "nbconvert_exporter": "python",
   "pygments_lexer": "ipython3",
   "version": "3.8.5"
  }
 },
 "nbformat": 4,
 "nbformat_minor": 2
}
